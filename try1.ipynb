{
 "cells": [
  {
   "cell_type": "code",
   "execution_count": 1,
   "metadata": {},
   "outputs": [],
   "source": [
    "trainDir = \"training\"\n",
    "testDir = \"validation\""
   ]
  },
  {
   "cell_type": "code",
   "execution_count": 25,
   "metadata": {},
   "outputs": [],
   "source": [
    "import numpy as np\n",
    "import tensorflow as tf\n",
    "from tensorflow.keras.models import Sequential\n",
    "from tensorflow.keras.layers import Conv2D, MaxPooling2D, Flatten, Dense, Dropout, MultiHeadAttention, LayerNormalization, Reshape, Add, Input, Lambda\n",
    "from tensorflow.keras.preprocessing.image import ImageDataGenerator\n",
    "import tensorflow.keras.layers as layers\n",
    "from tensorflow.keras.models import Model\n",
    "from tensorflow.keras.callbacks import EarlyStopping\n",
    "import matplotlib.pyplot as plt\n",
    "from sklearn.utils import class_weight "
   ]
  },
  {
   "cell_type": "code",
   "execution_count": 3,
   "metadata": {},
   "outputs": [],
   "source": [
    "def transformer_block(units, num_heads, dropout_rate=0.1):\n",
    "    # Define inputs for the transformer block\n",
    "    inputs = Input(shape=(None, units))  # None allows dynamic sequence length\n",
    "\n",
    "    # Multi-head attention layer\n",
    "    attn_output = MultiHeadAttention(num_heads=num_heads, key_dim=units)(inputs, inputs)\n",
    "    attn_output = Dropout(dropout_rate)(attn_output)\n",
    "    attn_output = Add()([inputs, attn_output])  # Residual connection\n",
    "    attn_output = LayerNormalization(epsilon=1e-6)(attn_output)  # Normalize\n",
    "\n",
    "    # Feed-forward network\n",
    "    ff_output = Dense(units, activation='relu')(attn_output)\n",
    "    ff_output = Dropout(dropout_rate)(ff_output)\n",
    "    ff_output = Add()([attn_output, ff_output])  # Another residual connection\n",
    "    outputs = LayerNormalization(epsilon=1e-6)(ff_output)  # Normalize\n",
    "\n",
    "    # Return the transformer block as a model\n",
    "    return Model(inputs=inputs, outputs=outputs)"
   ]
  },
  {
   "cell_type": "code",
   "execution_count": null,
   "metadata": {},
   "outputs": [
    {
     "name": "stdout",
     "output_type": "stream",
     "text": [
      "Found 5722 images belonging to 2 classes.\n",
      "Found 1430 images belonging to 2 classes.\n",
      "Epoch 1/15\n"
     ]
    },
    {
     "name": "stderr",
     "output_type": "stream",
     "text": [
      "/Library/Frameworks/Python.framework/Versions/3.10/lib/python3.10/site-packages/keras/src/layers/convolutional/base_conv.py:107: UserWarning: Do not pass an `input_shape`/`input_dim` argument to a layer. When using Sequential models, prefer using an `Input(shape)` object as the first layer in the model instead.\n",
      "  super().__init__(activity_regularizer=activity_regularizer, **kwargs)\n",
      "/Library/Frameworks/Python.framework/Versions/3.10/lib/python3.10/site-packages/keras/src/trainers/data_adapters/py_dataset_adapter.py:121: UserWarning: Your `PyDataset` class should call `super().__init__(**kwargs)` in its constructor. `**kwargs` can include `workers`, `use_multiprocessing`, `max_queue_size`. Do not pass these arguments to `fit()`, as they will be ignored.\n",
      "  self._warn_if_super_not_called()\n"
     ]
    },
    {
     "name": "stdout",
     "output_type": "stream",
     "text": [
      "\u001b[1m100/179\u001b[0m \u001b[32m━━━━━━━━━━━\u001b[0m\u001b[37m━━━━━━━━━\u001b[0m \u001b[1m17s\u001b[0m 217ms/step - accuracy: 0.7165 - loss: 0.6057"
     ]
    }
   ],
   "source": [
    "# Step 1: Data Preprocessing\n",
    "splits = [0.2]  # Example: 8:2 \n",
    "results = []\n",
    "\n",
    "for i, split in enumerate(splits, start=1):\n",
    "    data_gen = ImageDataGenerator(rescale=1.0/255.0, validation_split=split)\n",
    "    \n",
    "    train_data = data_gen.flow_from_directory(\n",
    "        trainDir,\n",
    "        target_size=(128, 128),\n",
    "        batch_size=32,\n",
    "        class_mode='binary',\n",
    "        subset='training'\n",
    "    )\n",
    "    val_data = data_gen.flow_from_directory(\n",
    "        trainDir,\n",
    "        target_size=(128, 128),\n",
    "        batch_size=32,\n",
    "        class_mode='binary',\n",
    "        subset='validation'\n",
    "    )\n",
    "\n",
    "transformer = transformer_block(units=128, num_heads=4)\n",
    "\n",
    "# Step 2: Building the CNN Model\n",
    "model = Sequential([\n",
    "    Conv2D(32, (3,3), activation='relu', input_shape=(128, 128, 3)),\n",
    "    MaxPooling2D(2, 2),\n",
    "    Conv2D(64, (3,3), activation='relu'),\n",
    "    MaxPooling2D(2,2),\n",
    "    Conv2D(128, (3,3), activation='relu'),\n",
    "    MaxPooling2D(2,2),\n",
    "    Flatten(),\n",
    "    Dense(128, activation='relu'), \n",
    "    Reshape((1, 128)),                #Reshape to (sequence length, units) for transformer\n",
    "\n",
    "    #  # Add transformer block\n",
    "    # transformer,\n",
    "\n",
    "    Flatten(),  # Flatten back for fully connected layers\n",
    "    Dense(128, activation='relu'),\n",
    "    Dropout(0.5),\n",
    "    Dense(1, activation='sigmoid')\n",
    "])\n",
    "model.compile(optimizer='adam', loss='binary_crossentropy', metrics=['accuracy'])\n",
    "\n",
    "labels = train_data.classes  # Array of 0s and 1s for binary classes\n",
    "class_weights = class_weight.compute_class_weight('balanced', classes=np.unique(labels), y=labels)\n",
    "class_weights_dict = dict(enumerate(class_weights))\n",
    "\n",
    "# Step 3: Training the Model\n",
    "history = model.fit(\n",
    "    train_data,\n",
    "    epochs=15,\n",
    "    validation_data=val_data,\n",
    "    # class_weight=class_weights_dict,\n",
    ")\n",
    "val_loss, val_accuracy = model.evaluate(train_data)\n",
    "\n",
    "\n",
    "\n"
   ]
  },
  {
   "cell_type": "code",
   "execution_count": 39,
   "metadata": {},
   "outputs": [
    {
     "name": "stdout",
     "output_type": "stream",
     "text": [
      "   No  Training Images  Testing Images Splitting Ratio  Accuracy (%)\n",
      "0   1             5007            2145             7:3         100.0\n"
     ]
    }
   ],
   "source": [
    "import pandas as pd\n",
    "results.append({\n",
    "        \"No\": i,\n",
    "        \"Training Images\": train_data.samples,\n",
    "        \"Testing Images\": val_data.samples,\n",
    "        \"Splitting Ratio\": f\"{int((1 - split) * 10)}:{int(split * 10)}\",\n",
    "        \"Accuracy (%)\": round(val_accuracy * 100, 2)\n",
    "    })\n",
    "\n",
    "# Convert to DataFrame\n",
    "results_df = pd.DataFrame(results)\n",
    "print(results_df)"
   ]
  },
  {
   "cell_type": "code",
   "execution_count": 40,
   "metadata": {},
   "outputs": [
    {
     "name": "stdout",
     "output_type": "stream",
     "text": [
      "\u001b[1m 3/68\u001b[0m \u001b[37m━━━━━━━━━━━━━━━━━━━━\u001b[0m \u001b[1m3s\u001b[0m 47ms/step "
     ]
    },
    {
     "name": "stderr",
     "output_type": "stream",
     "text": [
      "/Library/Frameworks/Python.framework/Versions/3.10/lib/python3.10/site-packages/keras/src/ops/nn.py:545: UserWarning: You are using a softmax over axis 3 of a tensor of shape (32, 4, 1, 1). This axis has size 1. The softmax operation will always return the value 1, which is likely not what you intended. Did you mean to use a sigmoid instead?\n",
      "  warnings.warn(\n"
     ]
    },
    {
     "name": "stdout",
     "output_type": "stream",
     "text": [
      "\u001b[1m68/68\u001b[0m \u001b[32m━━━━━━━━━━━━━━━━━━━━\u001b[0m\u001b[37m\u001b[0m \u001b[1m3s\u001b[0m 47ms/step\n",
      "Precision: 0.68\n",
      "Recall: 0.74\n",
      "F1-Score: 0.71\n",
      "\n",
      "Classification Report:\n",
      "              precision    recall  f1-score   support\n",
      "\n",
      "           0       0.29      0.24      0.26       676\n",
      "           1       0.68      0.74      0.71      1469\n",
      "\n",
      "    accuracy                           0.58      2145\n",
      "   macro avg       0.48      0.49      0.48      2145\n",
      "weighted avg       0.56      0.58      0.57      2145\n",
      "\n"
     ]
    },
    {
     "name": "stderr",
     "output_type": "stream",
     "text": [
      "/Library/Frameworks/Python.framework/Versions/3.10/lib/python3.10/site-packages/keras/src/ops/nn.py:545: UserWarning: You are using a softmax over axis 3 of a tensor of shape (None, 4, 1, 1). This axis has size 1. The softmax operation will always return the value 1, which is likely not what you intended. Did you mean to use a sigmoid instead?\n",
      "  warnings.warn(\n"
     ]
    }
   ],
   "source": [
    "from sklearn.metrics import precision_score, recall_score, f1_score, classification_report\n",
    "import numpy as np\n",
    "\n",
    "# Step 1: Get Predictions\n",
    "val_predictions = model.predict(val_data)\n",
    "val_predictions = (val_predictions > 0.5).astype(int)  # Convert probabilities to binary predictions (0 or 1)\n",
    "\n",
    "# Step 2: Get True Labels\n",
    "val_labels = val_data.classes  # Ground truth labels\n",
    "\n",
    "# Step 3: Calculate Precision, Recall, and F1-Score\n",
    "precision = precision_score(val_labels, val_predictions)\n",
    "recall = recall_score(val_labels, val_predictions)\n",
    "f1 = f1_score(val_labels, val_predictions)\n",
    "\n",
    "print(f\"Precision: {precision:.2f}\")\n",
    "print(f\"Recall: {recall:.2f}\")\n",
    "print(f\"F1-Score: {f1:.2f}\")\n",
    "\n",
    "# Detailed Classification Report\n",
    "print(\"\\nClassification Report:\")\n",
    "print(classification_report(val_labels, val_predictions))\n"
   ]
  },
  {
   "cell_type": "code",
   "execution_count": 18,
   "metadata": {},
   "outputs": [
    {
     "data": {
      "image/png": "[encoded data removed]",
      "text/plain": [
       "<Figure size 640x480 with 1 Axes>"
      ]
     },
     "metadata": {},
     "output_type": "display_data"
    }
   ],
   "source": [
    "# Step 4: Evaluate the Model\n",
    "plt.plot(history.history['accuracy'], label='accuracy')\n",
    "plt.plot(history.history['val_accuracy'], label = 'val_accuracy')\n",
    "plt.xlabel('Epoch')\n",
    "plt.ylabel('Accuracy')\n",
    "plt.legend(loc='lower right')\n",
    "plt.show()"
   ]
  },
  {
   "cell_type": "code",
   "execution_count": 12,
   "metadata": {},
   "outputs": [],
   "source": [
    "def predict_tumor(image_path, threshold=0.5):\n",
    "    # Load and preprocess the image\n",
    "    img = tf.keras.preprocessing.image.load_img(image_path, target_size=(128, 128))\n",
    "    img_array = tf.keras.preprocessing.image.img_to_array(img) / 255.0\n",
    "    img_array = np.expand_dims(img_array, axis=0)\n",
    "    \n",
    "    # Make prediction\n",
    "    prediction = model.predict(img_array)\n",
    "    confidence = prediction[0][0] * 100  # Convert to percentage\n",
    "    \n",
    "    # Determine the result\n",
    "    if prediction[0] > threshold:\n",
    "        result = \"Tumor Detected\"\n",
    "        confidence_level = confidence  # Confidence for \"Tumor Detected\"\n",
    "    else:\n",
    "        result = \"No Tumor Detected\"\n",
    "        confidence_level = 100 - confidence  # Confidence for \"No Tumor Detected\"\n",
    "    \n",
    "    return result, confidence_level\n"
   ]
  },
  {
   "cell_type": "code",
   "execution_count": null,
   "metadata": {},
   "outputs": [],
   "source": [
    "from pathlib import Path\n",
    "from PIL import UnidentifiedImageError  # Import this to handle specific image errors\n",
    "\n",
    "folder_path = Path('validation/notumor')\n",
    "\n",
    "for file_path in folder_path.iterdir():\n",
    "    if file_path.is_file() and file_path.suffix in ['.jpg', '.jpeg', '.png']:  # Filter only image files\n",
    "        try:\n",
    "            print(predict_tumor(file_path))\n",
    "        except UnidentifiedImageError:\n",
    "            print(f\"Skipping file {file_path} as it is not a valid image.\")\n"
   ]
  },
  {
   "cell_type": "code",
   "execution_count": 14,
   "metadata": {},
   "outputs": [
    {
     "name": "stdout",
     "output_type": "stream",
     "text": [
      "\u001b[1m1/1\u001b[0m \u001b[32m━━━━━━━━━━━━━━━━━━━━\u001b[0m\u001b[37m\u001b[0m \u001b[1m0s\u001b[0m 17ms/step\n",
      "Prediction: No Tumor Detected, Confidence Level: 99.98%\n"
     ]
    }
   ],
   "source": [
    "result, confidence = predict_tumor(\"/Users/dpak/Desktop/brain/No19.jpg\")\n",
    "print(f\"Prediction: {result}, Confidence Level: {confidence:.2f}%\")"
   ]
  },
  {
   "cell_type": "code",
   "execution_count": 20,
   "metadata": {},
   "outputs": [
    {
     "name": "stdout",
     "output_type": "stream",
     "text": [
      "Counter({np.int32(1): 979, np.int32(0): 451})\n"
     ]
    }
   ],
   "source": [
    "import collections\n",
    "print(collections.Counter(val_labels))\n"
   ]
  },
  {
   "cell_type": "code",
   "execution_count": null,
   "metadata": {},
   "outputs": [],
   "source": []
  }
 ],
 "metadata": {
  "kernelspec": {
   "display_name": "Python 3",
   "language": "python",
   "name": "python3"
  },
  "language_info": {
   "codemirror_mode": {
    "name": "ipython",
    "version": 3
   },
   "file_extension": ".py",
   "mimetype": "text/x-python",
   "name": "python",
   "nbconvert_exporter": "python",
   "pygments_lexer": "ipython3",
   "version": "3.10.11"
  }
 },
 "nbformat": 4,
 "nbformat_minor": 2
}
